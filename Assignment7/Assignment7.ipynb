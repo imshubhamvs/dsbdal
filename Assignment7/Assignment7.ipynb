{
 "cells": [
  {
   "cell_type": "code",
   "execution_count": 45,
   "id": "de38bd59",
   "metadata": {
    "colab": {
     "base_uri": "https://localhost:8080/"
    },
    "executionInfo": {
     "elapsed": 235,
     "status": "ok",
     "timestamp": 1740034879692,
     "user": {
      "displayName": "Raj Sharma",
      "userId": "04707301117277889297"
     },
     "user_tz": -330
    },
    "id": "de38bd59",
    "outputId": "7702f21b-c8af-4aba-bae3-5449d6f1c677"
   },
   "outputs": [
    {
     "name": "stderr",
     "output_type": "stream",
     "text": [
      "[nltk_data] Downloading package averaged_perceptron_tagger_eng to\n",
      "[nltk_data]     /home/pict/nltk_data...\n",
      "[nltk_data]   Package averaged_perceptron_tagger_eng is already up-to-\n",
      "[nltk_data]       date!\n",
      "[nltk_data] Downloading package stopwords to /home/pict/nltk_data...\n",
      "[nltk_data]   Package stopwords is already up-to-date!\n",
      "[nltk_data] Downloading package wordnet to /home/pict/nltk_data...\n",
      "[nltk_data]   Package wordnet is already up-to-date!\n"
     ]
    },
    {
     "data": {
      "text/plain": [
       "True"
      ]
     },
     "execution_count": 45,
     "metadata": {},
     "output_type": "execute_result"
    }
   ],
   "source": [
    "import re\n",
    "import nltk\n",
    "from nltk.corpus import stopwords\n",
    "from nltk.stem import PorterStemmer\n",
    "from nltk.stem import WordNetLemmatizer\n",
    "from nltk.corpus import wordnet\n",
    "from collections import Counter\n",
    "import math\n",
    "import matplotlib.pyplot as plt\n",
    "from wordcloud import WordCloud\n",
    "import numpy as np\n",
    "from nltk.tag import pos_tag\n",
    "from nltk.corpus import stopwords\n",
    "import seaborn as sns\n",
    "nltk.download('averaged_perceptron_tagger_eng')\n",
    "nltk.download('stopwords')\n",
    "nltk.download('wordnet')"
   ]
  },
  {
   "cell_type": "code",
   "execution_count": 2,
   "id": "4b709e22",
   "metadata": {
    "colab": {
     "base_uri": "https://localhost:8080/"
    },
    "executionInfo": {
     "elapsed": 11,
     "status": "ok",
     "timestamp": 1740034879908,
     "user": {
      "displayName": "Raj Sharma",
      "userId": "04707301117277889297"
     },
     "user_tz": -330
    },
    "id": "4b709e22",
    "outputId": "31de640e-6be6-4faa-9b39-bf6ff4e0c345"
   },
   "outputs": [
    {
     "name": "stdout",
     "output_type": "stream",
     "text": [
      "[\"Millions of people in India took part in an annual tree planting drive Sunday. More than 250 million saplings were planted in a single day across the country's most-populous state.\", 'The campaign was led by Uttar Pradesh state government officials, lawmakers, and activists, in a bid to reduce carbon emissions and combat climate change.', 'Where were the trees planted?', 'The saplings were planted by volunteers in forests, farms, schools, and along riverbanks and highways.', '\"We are committed to increasing the forest cover of Uttar Pradesh to over 15% of the total land area in the next five years,\\'\\' said state forest official Manoj Singh.', 'According to another government official, the forest cover of the state has increased over the last few years.', '\"There has been an increase of 127 sqare kilometers [79 sqare miles]\\xa0in the forest cover in Uttar Pradesh as compared to 2017,\" a state government spokesperson was quoted as saying in\\xa0The Indian Express newspaper.', '\"There has also been an increase in trees and plants. The tree cover has increased to 3.05%, as compared to the national average of 2.89%,\" the official said, citing the 2019 Forest Survey of India report.', 'How many saplings survive?', 'Uttar Pradesh State Forest Minister Dara Singh said the long-term survival of the saplings remains a concern, adding that usually only 60% of the saplings survive. The rest succumb to disease or lack of water.', 'However, he said that\\xa0about 80% of the saplings planted in the last four annual drives have survived.', '\"All the regions where plantation is being carried out have been geo-tagged so that we can ascertain what exactly happened,\" Chauhan told The Pioneer newspaper.', '\"These saplings carry QR codes so that officials can maintain a record and verify whether the saplings survived or not. Besides, teams have been formed to monitor progress of the plantation drive,\" he said.', \"What is the extent of India's tree planting project?\", 'India has vowed to have a third of its total land area, or 95 million hectares, under forest and tree cover by 2030.', 'The government has allocated $6.2 billion (€5.2 billion) for the tree-planting across the country.', 'However, industrial development and a rapidly growing population has put further stress on the land.', '', '']\n"
     ]
    }
   ],
   "source": [
    "data = \"\"\n",
    "with open('testdoc.txt', 'r') as file:\n",
    "    data = file.read()\n",
    "\n",
    "data = data.split('\\n')\n",
    "print(data)"
   ]
  },
  {
   "cell_type": "code",
   "execution_count": 3,
   "id": "30727cce",
   "metadata": {
    "colab": {
     "base_uri": "https://localhost:8080/"
    },
    "executionInfo": {
     "elapsed": 22,
     "status": "ok",
     "timestamp": 1740034880492,
     "user": {
      "displayName": "Raj Sharma",
      "userId": "04707301117277889297"
     },
     "user_tz": -330
    },
    "id": "30727cce",
    "outputId": "9c6422b3-9411-4ad6-d577-fdb3c9124b3c"
   },
   "outputs": [
    {
     "name": "stdout",
     "output_type": "stream",
     "text": [
      "['Millions of people in India took part in an annual tree planting drive Sunday', \" More than 250 million saplings were planted in a single day across the country's most-populous state\", '', 'The campaign was led by Uttar Pradesh state government officials', ' lawmakers', ' and activists', ' in a bid to reduce carbon emissions and combat climate change', '', 'Where were the trees planted', '', 'The saplings were planted by volunteers in forests', ' farms', ' schools', ' and along riverbanks and highways', '', '\"We are committed to increasing the forest cover of Uttar Pradesh to over 15% of the total land area in the next five years', \"'' said state forest official Manoj Singh\", '', 'According to another government official', ' the forest cover of the state has increased over the last few years', '', '\"There has been an increase of 127 sqare kilometers [79 sqare miles]\\xa0in the forest cover in Uttar Pradesh as compared to 2017', '\" a state government spokesperson was quoted as saying in\\xa0The Indian Express newspaper', '', '\"There has also been an increase in trees and plants', ' The tree cover has increased to 3', '05%', ' as compared to the national average of 2', '89%', '\" the official said', ' citing the 2019 Forest Survey of India report', '', 'How many saplings survive', '', 'Uttar Pradesh State Forest Minister Dara Singh said the long-term survival of the saplings remains a concern', ' adding that usually only 60% of the saplings survive', ' The rest succumb to disease or lack of water', '', 'However', ' he said that\\xa0about 80% of the saplings planted in the last four annual drives have survived', '', '\"All the regions where plantation is being carried out have been geo-tagged so that we can ascertain what exactly happened', '\" Chauhan told The Pioneer newspaper', '', '\"These saplings carry QR codes so that officials can maintain a record and verify whether the saplings survived or not', ' Besides', ' teams have been formed to monitor progress of the plantation drive', '\" he said', '', \"What is the extent of India's tree planting project\", '', 'India has vowed to have a third of its total land area', ' or 95 million hectares', ' under forest and tree cover by 2030', '', 'The government has allocated $6', '2 billion (€5', '2 billion) for the tree-planting across the country', '', 'However', ' industrial development and a rapidly growing population has put further stress on the land', '', '', '']\n"
     ]
    }
   ],
   "source": [
    "sent_tokens = []\n",
    "for i in data:\n",
    "    sent_tokens+=re.split(r'[,.?]',i)\n",
    "print(sent_tokens)"
   ]
  },
  {
   "cell_type": "code",
   "execution_count": 4,
   "id": "869ece7f",
   "metadata": {
    "colab": {
     "base_uri": "https://localhost:8080/"
    },
    "executionInfo": {
     "elapsed": 17,
     "status": "ok",
     "timestamp": 1740034881238,
     "user": {
      "displayName": "Raj Sharma",
      "userId": "04707301117277889297"
     },
     "user_tz": -330
    },
    "id": "869ece7f",
    "outputId": "3bd7e754-43f0-4802-c5ba-fda64d4961a8"
   },
   "outputs": [
    {
     "name": "stdout",
     "output_type": "stream",
     "text": [
      "['Millions', 'of', 'people', 'in', 'India', 'took', 'part', 'in', 'an', 'annual', 'tree', 'planting', 'drive', 'Sunday', 'More', 'than', '250', 'million', 'saplings', 'were', 'planted', 'in', 'a', 'single', 'day', 'across', 'the', \"country's\", 'most-populous', 'state', 'The', 'campaign', 'was', 'led', 'by', 'Uttar', 'Pradesh', 'state', 'government', 'officials', 'lawmakers', 'and', 'activists', 'in', 'a', 'bid', 'to', 'reduce', 'carbon', 'emissions', 'and', 'combat', 'climate', 'change', 'Where', 'were', 'the', 'trees', 'planted', 'The', 'saplings', 'were', 'planted', 'by', 'volunteers', 'in', 'forests', 'farms', 'schools', 'and', 'along', 'riverbanks', 'and', 'highways', '\"We', 'are', 'committed', 'to', 'increasing', 'the', 'forest', 'cover', 'of', 'Uttar', 'Pradesh', 'to', 'over', '15%', 'of', 'the', 'total', 'land', 'area', 'in', 'the', 'next', 'five', 'years', \"''\", 'said', 'state', 'forest', 'official', 'Manoj', 'Singh', 'According', 'to', 'another', 'government', 'official', 'the', 'forest', 'cover', 'of', 'the', 'state', 'has', 'increased', 'over', 'the', 'last', 'few', 'years', '\"There', 'has', 'been', 'an', 'increase', 'of', '127', 'sqare', 'kilometers', '[79', 'sqare', 'miles]\\xa0in', 'the', 'forest', 'cover', 'in', 'Uttar', 'Pradesh', 'as', 'compared', 'to', '2017', '\"', 'a', 'state', 'government', 'spokesperson', 'was', 'quoted', 'as', 'saying', 'in\\xa0The', 'Indian', 'Express', 'newspaper', '\"There', 'has', 'also', 'been', 'an', 'increase', 'in', 'trees', 'and', 'plants', 'The', 'tree', 'cover', 'has', 'increased', 'to', '3', '05%', 'as', 'compared', 'to', 'the', 'national', 'average', 'of', '2', '89%', '\"', 'the', 'official', 'said', 'citing', 'the', '2019', 'Forest', 'Survey', 'of', 'India', 'report', 'How', 'many', 'saplings', 'survive', 'Uttar', 'Pradesh', 'State', 'Forest', 'Minister', 'Dara', 'Singh', 'said', 'the', 'long-term', 'survival', 'of', 'the', 'saplings', 'remains', 'a', 'concern', 'adding', 'that', 'usually', 'only', '60%', 'of', 'the', 'saplings', 'survive', 'The', 'rest', 'succumb', 'to', 'disease', 'or', 'lack', 'of', 'water', 'However', 'he', 'said', 'that\\xa0about', '80%', 'of', 'the', 'saplings', 'planted', 'in', 'the', 'last', 'four', 'annual', 'drives', 'have', 'survived', '\"All', 'the', 'regions', 'where', 'plantation', 'is', 'being', 'carried', 'out', 'have', 'been', 'geo-tagged', 'so', 'that', 'we', 'can', 'ascertain', 'what', 'exactly', 'happened', '\"', 'Chauhan', 'told', 'The', 'Pioneer', 'newspaper', '\"These', 'saplings', 'carry', 'QR', 'codes', 'so', 'that', 'officials', 'can', 'maintain', 'a', 'record', 'and', 'verify', 'whether', 'the', 'saplings', 'survived', 'or', 'not', 'Besides', 'teams', 'have', 'been', 'formed', 'to', 'monitor', 'progress', 'of', 'the', 'plantation', 'drive', '\"', 'he', 'said', 'What', 'is', 'the', 'extent', 'of', \"India's\", 'tree', 'planting', 'project', 'India', 'has', 'vowed', 'to', 'have', 'a', 'third', 'of', 'its', 'total', 'land', 'area', 'or', '95', 'million', 'hectares', 'under', 'forest', 'and', 'tree', 'cover', 'by', '2030', 'The', 'government', 'has', 'allocated', '$6', '2', 'billion', '(€5', '2', 'billion)', 'for', 'the', 'tree-planting', 'across', 'the', 'country', 'However', 'industrial', 'development', 'and', 'a', 'rapidly', 'growing', 'population', 'has', 'put', 'further', 'stress', 'on', 'the', 'land']\n"
     ]
    }
   ],
   "source": [
    "tokens = []\n",
    "for s in sent_tokens:\n",
    "    tokens += s.split(' ')\n",
    "tokens = [i for i in tokens if i != '']\n",
    "print(tokens)"
   ]
  },
  {
   "cell_type": "code",
   "execution_count": 5,
   "id": "71bd3e00",
   "metadata": {
    "colab": {
     "base_uri": "https://localhost:8080/"
    },
    "executionInfo": {
     "elapsed": 31,
     "status": "ok",
     "timestamp": 1740034881834,
     "user": {
      "displayName": "Raj Sharma",
      "userId": "04707301117277889297"
     },
     "user_tz": -330
    },
    "id": "71bd3e00",
    "outputId": "6219128f-1380-4562-b94c-599912966e3c"
   },
   "outputs": [
    {
     "name": "stdout",
     "output_type": "stream",
     "text": [
      "('Millions', 'NNS')\n",
      "('of', 'IN')\n",
      "('people', 'NNS')\n",
      "('in', 'IN')\n",
      "('India', 'NNP')\n",
      "('took', 'VBD')\n",
      "('part', 'NN')\n",
      "('in', 'IN')\n",
      "('an', 'DT')\n",
      "('annual', 'JJ')\n",
      "('tree', 'NN')\n",
      "('planting', 'VBG')\n",
      "('drive', 'JJ')\n",
      "('Sunday', 'NNP')\n",
      "('More', 'JJR')\n",
      "('than', 'IN')\n",
      "('250', 'CD')\n",
      "('million', 'CD')\n",
      "('saplings', 'NNS')\n",
      "('were', 'VBD')\n",
      "('planted', 'VBN')\n",
      "('in', 'IN')\n",
      "('a', 'DT')\n",
      "('single', 'JJ')\n",
      "('day', 'NN')\n",
      "('across', 'IN')\n",
      "('the', 'DT')\n",
      "(\"country's\", 'NN')\n",
      "('most-populous', 'JJ')\n",
      "('state', 'NN')\n",
      "('The', 'DT')\n",
      "('campaign', 'NN')\n",
      "('was', 'VBD')\n",
      "('led', 'VBN')\n",
      "('by', 'IN')\n",
      "('Uttar', 'NNP')\n",
      "('Pradesh', 'NNP')\n",
      "('state', 'NN')\n",
      "('government', 'NN')\n",
      "('officials', 'NNS')\n",
      "('lawmakers', 'NNS')\n",
      "('and', 'CC')\n",
      "('activists', 'NNS')\n",
      "('in', 'IN')\n",
      "('a', 'DT')\n",
      "('bid', 'NN')\n",
      "('to', 'TO')\n",
      "('reduce', 'VB')\n",
      "('carbon', 'NN')\n",
      "('emissions', 'NNS')\n",
      "('and', 'CC')\n",
      "('combat', 'NN')\n",
      "('climate', 'NN')\n",
      "('change', 'NN')\n",
      "('Where', 'NNP')\n",
      "('were', 'VBD')\n",
      "('the', 'DT')\n",
      "('trees', 'NNS')\n",
      "('planted', 'VBD')\n",
      "('The', 'DT')\n",
      "('saplings', 'NNS')\n",
      "('were', 'VBD')\n",
      "('planted', 'VBN')\n",
      "('by', 'IN')\n",
      "('volunteers', 'NNS')\n",
      "('in', 'IN')\n",
      "('forests', 'NNS')\n",
      "('farms', 'VBP')\n",
      "('schools', 'NNS')\n",
      "('and', 'CC')\n",
      "('along', 'JJ')\n",
      "('riverbanks', 'NNS')\n",
      "('and', 'CC')\n",
      "('highways', 'NNS')\n",
      "('\"We', 'NNS')\n",
      "('are', 'VBP')\n",
      "('committed', 'VBN')\n",
      "('to', 'TO')\n",
      "('increasing', 'VBG')\n",
      "('the', 'DT')\n",
      "('forest', 'JJS')\n",
      "('cover', 'NN')\n",
      "('of', 'IN')\n",
      "('Uttar', 'NNP')\n",
      "('Pradesh', 'NNP')\n",
      "('to', 'TO')\n",
      "('over', 'IN')\n",
      "('15%', 'CD')\n",
      "('of', 'IN')\n",
      "('the', 'DT')\n",
      "('total', 'JJ')\n",
      "('land', 'NN')\n",
      "('area', 'NN')\n",
      "('in', 'IN')\n",
      "('the', 'DT')\n",
      "('next', 'JJ')\n",
      "('five', 'CD')\n",
      "('years', 'NNS')\n",
      "(\"''\", \"''\")\n",
      "('said', 'VBD')\n",
      "('state', 'NN')\n",
      "('forest', 'JJS')\n",
      "('official', 'NN')\n",
      "('Manoj', 'NNP')\n",
      "('Singh', 'NNP')\n",
      "('According', 'VBG')\n",
      "('to', 'TO')\n",
      "('another', 'DT')\n",
      "('government', 'NN')\n",
      "('official', 'NN')\n",
      "('the', 'DT')\n",
      "('forest', 'JJS')\n",
      "('cover', 'NN')\n",
      "('of', 'IN')\n",
      "('the', 'DT')\n",
      "('state', 'NN')\n",
      "('has', 'VBZ')\n",
      "('increased', 'VBN')\n",
      "('over', 'IN')\n",
      "('the', 'DT')\n",
      "('last', 'JJ')\n",
      "('few', 'JJ')\n",
      "('years', 'NNS')\n",
      "('\"There', 'RB')\n",
      "('has', 'VBZ')\n",
      "('been', 'VBN')\n",
      "('an', 'DT')\n",
      "('increase', 'NN')\n",
      "('of', 'IN')\n",
      "('127', 'CD')\n",
      "('sqare', 'NN')\n",
      "('kilometers', 'NNS')\n",
      "('[79', 'VBP')\n",
      "('sqare', 'JJ')\n",
      "('miles]\\xa0in', 'PDT')\n",
      "('the', 'DT')\n",
      "('forest', 'JJS')\n",
      "('cover', 'NN')\n",
      "('in', 'IN')\n",
      "('Uttar', 'NNP')\n",
      "('Pradesh', 'NNP')\n",
      "('as', 'IN')\n",
      "('compared', 'VBN')\n",
      "('to', 'TO')\n",
      "('2017', 'CD')\n",
      "('\"', 'NN')\n",
      "('a', 'DT')\n",
      "('state', 'NN')\n",
      "('government', 'NN')\n",
      "('spokesperson', 'NN')\n",
      "('was', 'VBD')\n",
      "('quoted', 'VBN')\n",
      "('as', 'IN')\n",
      "('saying', 'VBG')\n",
      "('in\\xa0The', 'NN')\n",
      "('Indian', 'NNP')\n",
      "('Express', 'NNP')\n",
      "('newspaper', 'NN')\n",
      "('\"There', 'NN')\n",
      "('has', 'VBZ')\n",
      "('also', 'RB')\n",
      "('been', 'VBN')\n",
      "('an', 'DT')\n",
      "('increase', 'NN')\n",
      "('in', 'IN')\n",
      "('trees', 'NNS')\n",
      "('and', 'CC')\n",
      "('plants', 'NNS')\n",
      "('The', 'DT')\n",
      "('tree', 'NN')\n",
      "('cover', 'NN')\n",
      "('has', 'VBZ')\n",
      "('increased', 'VBN')\n",
      "('to', 'TO')\n",
      "('3', 'CD')\n",
      "('05%', 'CD')\n",
      "('as', 'IN')\n",
      "('compared', 'VBN')\n",
      "('to', 'TO')\n",
      "('the', 'DT')\n",
      "('national', 'JJ')\n",
      "('average', 'NN')\n",
      "('of', 'IN')\n",
      "('2', 'CD')\n",
      "('89%', 'CD')\n",
      "('\"', 'VBD')\n",
      "('the', 'DT')\n",
      "('official', 'NN')\n",
      "('said', 'VBD')\n",
      "('citing', 'VBG')\n",
      "('the', 'DT')\n",
      "('2019', 'CD')\n",
      "('Forest', 'NNP')\n",
      "('Survey', 'NNP')\n",
      "('of', 'IN')\n",
      "('India', 'NNP')\n",
      "('report', 'NNP')\n",
      "('How', 'NNP')\n",
      "('many', 'JJ')\n",
      "('saplings', 'NNS')\n",
      "('survive', 'VBP')\n",
      "('Uttar', 'NNP')\n",
      "('Pradesh', 'NNP')\n",
      "('State', 'NNP')\n",
      "('Forest', 'NNP')\n",
      "('Minister', 'NNP')\n",
      "('Dara', 'NNP')\n",
      "('Singh', 'NNP')\n",
      "('said', 'VBD')\n",
      "('the', 'DT')\n",
      "('long-term', 'JJ')\n",
      "('survival', 'NN')\n",
      "('of', 'IN')\n",
      "('the', 'DT')\n",
      "('saplings', 'NNS')\n",
      "('remains', 'VBZ')\n",
      "('a', 'DT')\n",
      "('concern', 'NN')\n",
      "('adding', 'VBG')\n",
      "('that', 'IN')\n",
      "('usually', 'RB')\n",
      "('only', 'RB')\n",
      "('60%', 'CD')\n",
      "('of', 'IN')\n",
      "('the', 'DT')\n",
      "('saplings', 'NNS')\n",
      "('survive', 'VBP')\n",
      "('The', 'DT')\n",
      "('rest', 'NN')\n",
      "('succumb', 'NN')\n",
      "('to', 'TO')\n",
      "('disease', 'VB')\n",
      "('or', 'CC')\n",
      "('lack', 'VB')\n",
      "('of', 'IN')\n",
      "('water', 'NN')\n",
      "('However', 'RB')\n",
      "('he', 'PRP')\n",
      "('said', 'VBD')\n",
      "('that\\xa0about', 'IN')\n",
      "('80%', 'CD')\n",
      "('of', 'IN')\n",
      "('the', 'DT')\n",
      "('saplings', 'NNS')\n",
      "('planted', 'VBN')\n",
      "('in', 'IN')\n",
      "('the', 'DT')\n",
      "('last', 'JJ')\n",
      "('four', 'CD')\n",
      "('annual', 'JJ')\n",
      "('drives', 'NNS')\n",
      "('have', 'VBP')\n",
      "('survived', 'VBN')\n",
      "('\"All', 'PDT')\n",
      "('the', 'DT')\n",
      "('regions', 'NNS')\n",
      "('where', 'WRB')\n",
      "('plantation', 'NN')\n",
      "('is', 'VBZ')\n",
      "('being', 'VBG')\n",
      "('carried', 'VBN')\n",
      "('out', 'RP')\n",
      "('have', 'VBP')\n",
      "('been', 'VBN')\n",
      "('geo-tagged', 'VBN')\n",
      "('so', 'RB')\n",
      "('that', 'IN')\n",
      "('we', 'PRP')\n",
      "('can', 'MD')\n",
      "('ascertain', 'VB')\n",
      "('what', 'WP')\n",
      "('exactly', 'RB')\n",
      "('happened', 'VBD')\n",
      "('\"', 'NNP')\n",
      "('Chauhan', 'NNP')\n",
      "('told', 'VBD')\n",
      "('The', 'DT')\n",
      "('Pioneer', 'NNP')\n",
      "('newspaper', 'NN')\n",
      "('\"These', 'JJ')\n",
      "('saplings', 'NNS')\n",
      "('carry', 'VBP')\n",
      "('QR', 'NNP')\n",
      "('codes', 'NNS')\n",
      "('so', 'RB')\n",
      "('that', 'IN')\n",
      "('officials', 'NNS')\n",
      "('can', 'MD')\n",
      "('maintain', 'VB')\n",
      "('a', 'DT')\n",
      "('record', 'NN')\n",
      "('and', 'CC')\n",
      "('verify', 'VB')\n",
      "('whether', 'IN')\n",
      "('the', 'DT')\n",
      "('saplings', 'NNS')\n",
      "('survived', 'VBD')\n",
      "('or', 'CC')\n",
      "('not', 'RB')\n",
      "('Besides', 'IN')\n",
      "('teams', 'NNS')\n",
      "('have', 'VBP')\n",
      "('been', 'VBN')\n",
      "('formed', 'VBN')\n",
      "('to', 'TO')\n",
      "('monitor', 'VB')\n",
      "('progress', 'NN')\n",
      "('of', 'IN')\n",
      "('the', 'DT')\n",
      "('plantation', 'NN')\n",
      "('drive', 'NN')\n",
      "('\"', 'NN')\n",
      "('he', 'PRP')\n",
      "('said', 'VBD')\n",
      "('What', 'WP')\n",
      "('is', 'VBZ')\n",
      "('the', 'DT')\n",
      "('extent', 'NN')\n",
      "('of', 'IN')\n",
      "(\"India's\", 'NNP')\n",
      "('tree', 'NN')\n",
      "('planting', 'VBG')\n",
      "('project', 'NN')\n",
      "('India', 'NNP')\n",
      "('has', 'VBZ')\n",
      "('vowed', 'VBN')\n",
      "('to', 'TO')\n",
      "('have', 'VB')\n",
      "('a', 'DT')\n",
      "('third', 'JJ')\n",
      "('of', 'IN')\n",
      "('its', 'PRP$')\n",
      "('total', 'JJ')\n",
      "('land', 'NN')\n",
      "('area', 'NN')\n",
      "('or', 'CC')\n",
      "('95', 'CD')\n",
      "('million', 'CD')\n",
      "('hectares', 'NNS')\n",
      "('under', 'IN')\n",
      "('forest', 'NN')\n",
      "('and', 'CC')\n",
      "('tree', 'VB')\n",
      "('cover', 'NN')\n",
      "('by', 'IN')\n",
      "('2030', 'CD')\n",
      "('The', 'DT')\n",
      "('government', 'NN')\n",
      "('has', 'VBZ')\n",
      "('allocated', 'VBN')\n",
      "('$6', '$')\n",
      "('2', 'CD')\n",
      "('billion', 'CD')\n",
      "('(€5', 'NNS')\n",
      "('2', 'CD')\n",
      "('billion)', 'NN')\n",
      "('for', 'IN')\n",
      "('the', 'DT')\n",
      "('tree-planting', 'JJ')\n",
      "('across', 'IN')\n",
      "('the', 'DT')\n",
      "('country', 'NN')\n",
      "('However', 'RB')\n",
      "('industrial', 'JJ')\n",
      "('development', 'NN')\n",
      "('and', 'CC')\n",
      "('a', 'DT')\n",
      "('rapidly', 'RB')\n",
      "('growing', 'VBG')\n",
      "('population', 'NN')\n",
      "('has', 'VBZ')\n",
      "('put', 'VBN')\n",
      "('further', 'RB')\n",
      "('stress', 'NN')\n",
      "('on', 'IN')\n",
      "('the', 'DT')\n",
      "('land', 'NN')\n"
     ]
    }
   ],
   "source": [
    "\n",
    "pos_tags = pos_tag(tokens)\n",
    "for i in pos_tags:\n",
    "    print(i)"
   ]
  },
  {
   "cell_type": "code",
   "execution_count": 6,
   "id": "454e4b92",
   "metadata": {
    "colab": {
     "base_uri": "https://localhost:8080/"
    },
    "executionInfo": {
     "elapsed": 16,
     "status": "ok",
     "timestamp": 1740034884089,
     "user": {
      "displayName": "Raj Sharma",
      "userId": "04707301117277889297"
     },
     "user_tz": -330
    },
    "id": "454e4b92",
    "outputId": "aeac65ae-969b-45c2-8404-b567908ad22d"
   },
   "outputs": [
    {
     "name": "stdout",
     "output_type": "stream",
     "text": [
      "{'why', 'my', 'all', 'now', 'there', 'them', 'during', \"weren't\", \"didn't\", 'couldn', 'this', \"don't\", 'm', \"mustn't\", \"he'd\", \"you're\", 'on', 'itself', 've', 'yourselves', 'because', 'both', 'own', 'into', 'are', 'once', 'shouldn', 'him', 'we', \"they've\", 'from', \"hadn't\", 'having', \"you'll\", 'o', 'wouldn', 'were', 'ain', \"we'd\", 'those', 'at', 'above', 's', 'mustn', 't', 'hasn', 'these', 'had', 'for', 'very', 'down', 'in', 'so', \"should've\", \"needn't\", 'll', 'each', \"aren't\", 'doing', 'any', 'other', \"i've\", 'myself', 'they', \"they'll\", 'until', 'yourself', 'more', 'ma', \"hasn't\", 'ourselves', 'it', 'again', 'the', \"won't\", 'which', 'what', 'herself', 'your', 'about', 'you', 'mightn', 'd', 'or', 'weren', \"she'll\", 'theirs', 'out', 'is', \"shouldn't\", 'his', 'only', 'aren', 'not', 'her', 'below', 'between', 'when', 'y', 'up', 'whom', \"i'd\", 'to', 'as', 'me', 'did', 'by', 'themselves', 'while', 'can', 'too', 'been', 'be', 'under', \"doesn't\", 'further', 'doesn', \"she's\", \"it'll\", 'no', 'hadn', 'yours', 'most', \"haven't\", 'don', \"i'm\", 'needn', 'just', 'who', 'through', 'some', 'of', 'off', \"that'll\", 'same', \"he's\", 'do', 'our', 'does', \"we've\", \"it's\", \"they'd\", 'was', 'after', 'how', 're', 'then', \"you'd\", 'than', 'but', 'with', \"wouldn't\", 'am', 'being', 'an', 'against', 'before', 'its', 'shan', \"we'll\", \"couldn't\", 'few', 'he', 'such', 'a', 'ours', \"wasn't\", 'has', 'wasn', \"she'd\", 'haven', 'she', 'that', \"you've\", 'their', 'here', 'if', \"mightn't\", \"we're\", 'and', 'will', 'over', 'should', 'nor', 'where', 'won', \"isn't\", \"he'll\", 'himself', \"it'd\", \"they're\", 'hers', 'didn', 'isn', \"shan't\", 'have', 'i', \"i'll\"}\n"
     ]
    }
   ],
   "source": [
    "\n",
    "\n",
    "stop_words = set(stopwords.words('english'))\n",
    "print(stop_words)"
   ]
  },
  {
   "cell_type": "code",
   "execution_count": 7,
   "id": "3bec72ef",
   "metadata": {
    "colab": {
     "base_uri": "https://localhost:8080/"
    },
    "executionInfo": {
     "elapsed": 7,
     "status": "ok",
     "timestamp": 1740034886094,
     "user": {
      "displayName": "Raj Sharma",
      "userId": "04707301117277889297"
     },
     "user_tz": -330
    },
    "id": "3bec72ef",
    "outputId": "070641b6-5894-44ff-d489-d38571d27b4b"
   },
   "outputs": [
    {
     "name": "stdout",
     "output_type": "stream",
     "text": [
      "[('Millions', 'NNS'), ('people', 'NNS'), ('India', 'NNP'), ('took', 'VBD'), ('part', 'NN'), ('annual', 'JJ'), ('tree', 'NN'), ('planting', 'VBG'), ('drive', 'JJ'), ('Sunday', 'NNP'), ('250', 'CD'), ('million', 'CD'), ('saplings', 'NNS'), ('planted', 'VBN'), ('single', 'JJ'), ('day', 'NN'), ('across', 'IN'), (\"country's\", 'NN'), ('most-populous', 'JJ'), ('state', 'NN'), ('campaign', 'NN'), ('led', 'VBN'), ('Uttar', 'NNP'), ('Pradesh', 'NNP'), ('state', 'NN'), ('government', 'NN'), ('officials', 'NNS'), ('lawmakers', 'NNS'), ('activists', 'NNS'), ('bid', 'NN'), ('reduce', 'VB'), ('carbon', 'NN'), ('emissions', 'NNS'), ('combat', 'NN'), ('climate', 'NN'), ('change', 'NN'), ('trees', 'NNS'), ('planted', 'VBD'), ('saplings', 'NNS'), ('planted', 'VBN'), ('volunteers', 'NNS'), ('forests', 'NNS'), ('farms', 'VBP'), ('schools', 'NNS'), ('along', 'JJ'), ('riverbanks', 'NNS'), ('highways', 'NNS'), ('\"We', 'NNS'), ('committed', 'VBN'), ('increasing', 'VBG'), ('forest', 'JJS'), ('cover', 'NN'), ('Uttar', 'NNP'), ('Pradesh', 'NNP'), ('15%', 'CD'), ('total', 'JJ'), ('land', 'NN'), ('area', 'NN'), ('next', 'JJ'), ('five', 'CD'), ('years', 'NNS'), (\"''\", \"''\"), ('said', 'VBD'), ('state', 'NN'), ('forest', 'JJS'), ('official', 'NN'), ('Manoj', 'NNP'), ('Singh', 'NNP'), ('According', 'VBG'), ('another', 'DT'), ('government', 'NN'), ('official', 'NN'), ('forest', 'JJS'), ('cover', 'NN'), ('state', 'NN'), ('increased', 'VBN'), ('last', 'JJ'), ('years', 'NNS'), ('\"There', 'RB'), ('increase', 'NN'), ('127', 'CD'), ('sqare', 'NN'), ('kilometers', 'NNS'), ('[79', 'VBP'), ('sqare', 'JJ'), ('miles]\\xa0in', 'PDT'), ('forest', 'JJS'), ('cover', 'NN'), ('Uttar', 'NNP'), ('Pradesh', 'NNP'), ('compared', 'VBN'), ('2017', 'CD'), ('\"', 'NN'), ('state', 'NN'), ('government', 'NN'), ('spokesperson', 'NN'), ('quoted', 'VBN'), ('saying', 'VBG'), ('in\\xa0The', 'NN'), ('Indian', 'NNP'), ('Express', 'NNP'), ('newspaper', 'NN'), ('\"There', 'NN'), ('also', 'RB'), ('increase', 'NN'), ('trees', 'NNS'), ('plants', 'NNS'), ('tree', 'NN'), ('cover', 'NN'), ('increased', 'VBN'), ('3', 'CD'), ('05%', 'CD'), ('compared', 'VBN'), ('national', 'JJ'), ('average', 'NN'), ('2', 'CD'), ('89%', 'CD'), ('\"', 'VBD'), ('official', 'NN'), ('said', 'VBD'), ('citing', 'VBG'), ('2019', 'CD'), ('Forest', 'NNP'), ('Survey', 'NNP'), ('India', 'NNP'), ('report', 'NNP'), ('many', 'JJ'), ('saplings', 'NNS'), ('survive', 'VBP'), ('Uttar', 'NNP'), ('Pradesh', 'NNP'), ('State', 'NNP'), ('Forest', 'NNP'), ('Minister', 'NNP'), ('Dara', 'NNP'), ('Singh', 'NNP'), ('said', 'VBD'), ('long-term', 'JJ'), ('survival', 'NN'), ('saplings', 'NNS'), ('remains', 'VBZ'), ('concern', 'NN'), ('adding', 'VBG'), ('usually', 'RB'), ('60%', 'CD'), ('saplings', 'NNS'), ('survive', 'VBP'), ('rest', 'NN'), ('succumb', 'NN'), ('disease', 'VB'), ('lack', 'VB'), ('water', 'NN'), ('However', 'RB'), ('said', 'VBD'), ('that\\xa0about', 'IN'), ('80%', 'CD'), ('saplings', 'NNS'), ('planted', 'VBN'), ('last', 'JJ'), ('four', 'CD'), ('annual', 'JJ'), ('drives', 'NNS'), ('survived', 'VBN'), ('\"All', 'PDT'), ('regions', 'NNS'), ('plantation', 'NN'), ('carried', 'VBN'), ('geo-tagged', 'VBN'), ('ascertain', 'VB'), ('exactly', 'RB'), ('happened', 'VBD'), ('\"', 'NNP'), ('Chauhan', 'NNP'), ('told', 'VBD'), ('Pioneer', 'NNP'), ('newspaper', 'NN'), ('\"These', 'JJ'), ('saplings', 'NNS'), ('carry', 'VBP'), ('QR', 'NNP'), ('codes', 'NNS'), ('officials', 'NNS'), ('maintain', 'VB'), ('record', 'NN'), ('verify', 'VB'), ('whether', 'IN'), ('saplings', 'NNS'), ('survived', 'VBD'), ('Besides', 'IN'), ('teams', 'NNS'), ('formed', 'VBN'), ('monitor', 'VB'), ('progress', 'NN'), ('plantation', 'NN'), ('drive', 'NN'), ('\"', 'NN'), ('said', 'VBD'), ('extent', 'NN'), (\"India's\", 'NNP'), ('tree', 'NN'), ('planting', 'VBG'), ('project', 'NN'), ('India', 'NNP'), ('vowed', 'VBN'), ('third', 'JJ'), ('total', 'JJ'), ('land', 'NN'), ('area', 'NN'), ('95', 'CD'), ('million', 'CD'), ('hectares', 'NNS'), ('forest', 'NN'), ('tree', 'VB'), ('cover', 'NN'), ('2030', 'CD'), ('government', 'NN'), ('allocated', 'VBN'), ('$6', '$'), ('2', 'CD'), ('billion', 'CD'), ('(€5', 'NNS'), ('2', 'CD'), ('billion)', 'NN'), ('tree-planting', 'JJ'), ('across', 'IN'), ('country', 'NN'), ('However', 'RB'), ('industrial', 'JJ'), ('development', 'NN'), ('rapidly', 'RB'), ('growing', 'VBG'), ('population', 'NN'), ('put', 'VBN'), ('stress', 'NN'), ('land', 'NN')]\n"
     ]
    }
   ],
   "source": [
    "removed_stop_words = []\n",
    "for w in pos_tags:\n",
    "    if w[0].lower() not in stop_words:\n",
    "        removed_stop_words.append(w)\n",
    "\n",
    "print(removed_stop_words)"
   ]
  },
  {
   "cell_type": "code",
   "execution_count": 8,
   "id": "0281ba65",
   "metadata": {
    "colab": {
     "base_uri": "https://localhost:8080/"
    },
    "executionInfo": {
     "elapsed": 32,
     "status": "ok",
     "timestamp": 1740034887175,
     "user": {
      "displayName": "Raj Sharma",
      "userId": "04707301117277889297"
     },
     "user_tz": -330
    },
    "id": "0281ba65",
    "outputId": "b0a6f052-d04a-4849-cc39-b817d8b578d4"
   },
   "outputs": [
    {
     "name": "stdout",
     "output_type": "stream",
     "text": [
      "[('million', 'NNS'), ('peopl', 'NNS'), ('india', 'NNP'), ('took', 'VBD'), ('part', 'NN'), ('annual', 'JJ'), ('tree', 'NN'), ('plant', 'VBG'), ('drive', 'JJ'), ('sunday', 'NNP'), ('250', 'CD'), ('million', 'CD'), ('sapl', 'NNS'), ('plant', 'VBN'), ('singl', 'JJ'), ('day', 'NN'), ('across', 'IN'), (\"country'\", 'NN'), ('most-popul', 'JJ'), ('state', 'NN'), ('campaign', 'NN'), ('led', 'VBN'), ('uttar', 'NNP'), ('pradesh', 'NNP'), ('state', 'NN'), ('govern', 'NN'), ('offici', 'NNS'), ('lawmak', 'NNS'), ('activist', 'NNS'), ('bid', 'NN'), ('reduc', 'VB'), ('carbon', 'NN'), ('emiss', 'NNS'), ('combat', 'NN'), ('climat', 'NN'), ('chang', 'NN'), ('tree', 'NNS'), ('plant', 'VBD'), ('sapl', 'NNS'), ('plant', 'VBN'), ('volunt', 'NNS'), ('forest', 'NNS'), ('farm', 'VBP'), ('school', 'NNS'), ('along', 'JJ'), ('riverbank', 'NNS'), ('highway', 'NNS'), ('\"we', 'NNS'), ('commit', 'VBN'), ('increas', 'VBG'), ('forest', 'JJS'), ('cover', 'NN'), ('uttar', 'NNP'), ('pradesh', 'NNP'), ('15%', 'CD'), ('total', 'JJ'), ('land', 'NN'), ('area', 'NN'), ('next', 'JJ'), ('five', 'CD'), ('year', 'NNS'), (\"''\", \"''\"), ('said', 'VBD'), ('state', 'NN'), ('forest', 'JJS'), ('offici', 'NN'), ('manoj', 'NNP'), ('singh', 'NNP'), ('accord', 'VBG'), ('anoth', 'DT'), ('govern', 'NN'), ('offici', 'NN'), ('forest', 'JJS'), ('cover', 'NN'), ('state', 'NN'), ('increas', 'VBN'), ('last', 'JJ'), ('year', 'NNS'), ('\"there', 'RB'), ('increas', 'NN'), ('127', 'CD'), ('sqare', 'NN'), ('kilomet', 'NNS'), ('[79', 'VBP'), ('sqare', 'JJ'), ('miles]\\xa0in', 'PDT'), ('forest', 'JJS'), ('cover', 'NN'), ('uttar', 'NNP'), ('pradesh', 'NNP'), ('compar', 'VBN'), ('2017', 'CD'), ('\"', 'NN'), ('state', 'NN'), ('govern', 'NN'), ('spokesperson', 'NN'), ('quot', 'VBN'), ('say', 'VBG'), ('in\\xa0th', 'NN'), ('indian', 'NNP'), ('express', 'NNP'), ('newspap', 'NN'), ('\"there', 'NN'), ('also', 'RB'), ('increas', 'NN'), ('tree', 'NNS'), ('plant', 'NNS'), ('tree', 'NN'), ('cover', 'NN'), ('increas', 'VBN'), ('3', 'CD'), ('05%', 'CD'), ('compar', 'VBN'), ('nation', 'JJ'), ('averag', 'NN'), ('2', 'CD'), ('89%', 'CD'), ('\"', 'VBD'), ('offici', 'NN'), ('said', 'VBD'), ('cite', 'VBG'), ('2019', 'CD'), ('forest', 'NNP'), ('survey', 'NNP'), ('india', 'NNP'), ('report', 'NNP'), ('mani', 'JJ'), ('sapl', 'NNS'), ('surviv', 'VBP'), ('uttar', 'NNP'), ('pradesh', 'NNP'), ('state', 'NNP'), ('forest', 'NNP'), ('minist', 'NNP'), ('dara', 'NNP'), ('singh', 'NNP'), ('said', 'VBD'), ('long-term', 'JJ'), ('surviv', 'NN'), ('sapl', 'NNS'), ('remain', 'VBZ'), ('concern', 'NN'), ('ad', 'VBG'), ('usual', 'RB'), ('60%', 'CD'), ('sapl', 'NNS'), ('surviv', 'VBP'), ('rest', 'NN'), ('succumb', 'NN'), ('diseas', 'VB'), ('lack', 'VB'), ('water', 'NN'), ('howev', 'RB'), ('said', 'VBD'), ('that\\xa0about', 'IN'), ('80%', 'CD'), ('sapl', 'NNS'), ('plant', 'VBN'), ('last', 'JJ'), ('four', 'CD'), ('annual', 'JJ'), ('drive', 'NNS'), ('surviv', 'VBN'), ('\"all', 'PDT'), ('region', 'NNS'), ('plantat', 'NN'), ('carri', 'VBN'), ('geo-tag', 'VBN'), ('ascertain', 'VB'), ('exactli', 'RB'), ('happen', 'VBD'), ('\"', 'NNP'), ('chauhan', 'NNP'), ('told', 'VBD'), ('pioneer', 'NNP'), ('newspap', 'NN'), ('\"these', 'JJ'), ('sapl', 'NNS'), ('carri', 'VBP'), ('qr', 'NNP'), ('code', 'NNS'), ('offici', 'NNS'), ('maintain', 'VB'), ('record', 'NN'), ('verifi', 'VB'), ('whether', 'IN'), ('sapl', 'NNS'), ('surviv', 'VBD'), ('besid', 'IN'), ('team', 'NNS'), ('form', 'VBN'), ('monitor', 'VB'), ('progress', 'NN'), ('plantat', 'NN'), ('drive', 'NN'), ('\"', 'NN'), ('said', 'VBD'), ('extent', 'NN'), (\"india'\", 'NNP'), ('tree', 'NN'), ('plant', 'VBG'), ('project', 'NN'), ('india', 'NNP'), ('vow', 'VBN'), ('third', 'JJ'), ('total', 'JJ'), ('land', 'NN'), ('area', 'NN'), ('95', 'CD'), ('million', 'CD'), ('hectar', 'NNS'), ('forest', 'NN'), ('tree', 'VB'), ('cover', 'NN'), ('2030', 'CD'), ('govern', 'NN'), ('alloc', 'VBN'), ('$6', '$'), ('2', 'CD'), ('billion', 'CD'), ('(€5', 'NNS'), ('2', 'CD'), ('billion)', 'NN'), ('tree-plant', 'JJ'), ('across', 'IN'), ('countri', 'NN'), ('howev', 'RB'), ('industri', 'JJ'), ('develop', 'NN'), ('rapidli', 'RB'), ('grow', 'VBG'), ('popul', 'NN'), ('put', 'VBN'), ('stress', 'NN'), ('land', 'NN')]\n"
     ]
    }
   ],
   "source": [
    "stemer = PorterStemmer()\n",
    "\n",
    "stemmed_tokens = [(stemer.stem(w[0]), w[1]) for w in removed_stop_words]\n",
    "\n",
    "print(stemmed_tokens)"
   ]
  },
  {
   "cell_type": "code",
   "execution_count": 9,
   "id": "886f0c3b",
   "metadata": {
    "colab": {
     "base_uri": "https://localhost:8080/"
    },
    "executionInfo": {
     "elapsed": 31,
     "status": "ok",
     "timestamp": 1740034895858,
     "user": {
      "displayName": "Raj Sharma",
      "userId": "04707301117277889297"
     },
     "user_tz": -330
    },
    "id": "886f0c3b",
    "outputId": "470d23fc-6bd7-45db-b492-4e3dd187d6e0"
   },
   "outputs": [
    {
     "name": "stdout",
     "output_type": "stream",
     "text": [
      "Millions ('Millions', 'NNS')\n",
      "people ('people', 'NNS')\n",
      "India ('India', 'NNP')\n",
      "take ('took', 'VBD')\n",
      "part ('part', 'NN')\n",
      "annual ('annual', 'JJ')\n",
      "tree ('tree', 'NN')\n",
      "plant ('planting', 'VBG')\n",
      "drive ('drive', 'JJ')\n",
      "Sunday ('Sunday', 'NNP')\n",
      "250 ('250', 'CD')\n",
      "million ('million', 'CD')\n",
      "sapling ('saplings', 'NNS')\n",
      "plant ('planted', 'VBN')\n",
      "single ('single', 'JJ')\n",
      "day ('day', 'NN')\n",
      "across ('across', 'IN')\n",
      "country's (\"country's\", 'NN')\n",
      "most-populous ('most-populous', 'JJ')\n",
      "state ('state', 'NN')\n",
      "campaign ('campaign', 'NN')\n",
      "lead ('led', 'VBN')\n",
      "Uttar ('Uttar', 'NNP')\n",
      "Pradesh ('Pradesh', 'NNP')\n",
      "state ('state', 'NN')\n",
      "government ('government', 'NN')\n",
      "official ('officials', 'NNS')\n",
      "lawmaker ('lawmakers', 'NNS')\n",
      "activist ('activists', 'NNS')\n",
      "bid ('bid', 'NN')\n",
      "reduce ('reduce', 'VB')\n",
      "carbon ('carbon', 'NN')\n",
      "emission ('emissions', 'NNS')\n",
      "combat ('combat', 'NN')\n",
      "climate ('climate', 'NN')\n",
      "change ('change', 'NN')\n",
      "tree ('trees', 'NNS')\n",
      "plant ('planted', 'VBD')\n",
      "sapling ('saplings', 'NNS')\n",
      "plant ('planted', 'VBN')\n",
      "volunteer ('volunteers', 'NNS')\n",
      "forest ('forests', 'NNS')\n",
      "farm ('farms', 'VBP')\n",
      "school ('schools', 'NNS')\n",
      "along ('along', 'JJ')\n",
      "riverbank ('riverbanks', 'NNS')\n",
      "highway ('highways', 'NNS')\n",
      "\"We ('\"We', 'NNS')\n",
      "commit ('committed', 'VBN')\n",
      "increase ('increasing', 'VBG')\n",
      "forest ('forest', 'JJS')\n",
      "cover ('cover', 'NN')\n",
      "Uttar ('Uttar', 'NNP')\n",
      "Pradesh ('Pradesh', 'NNP')\n",
      "15% ('15%', 'CD')\n",
      "total ('total', 'JJ')\n",
      "land ('land', 'NN')\n",
      "area ('area', 'NN')\n",
      "next ('next', 'JJ')\n",
      "five ('five', 'CD')\n",
      "year ('years', 'NNS')\n",
      "'' (\"''\", \"''\")\n",
      "say ('said', 'VBD')\n",
      "state ('state', 'NN')\n",
      "forest ('forest', 'JJS')\n",
      "official ('official', 'NN')\n",
      "Manoj ('Manoj', 'NNP')\n",
      "Singh ('Singh', 'NNP')\n",
      "According ('According', 'VBG')\n",
      "another ('another', 'DT')\n",
      "government ('government', 'NN')\n",
      "official ('official', 'NN')\n",
      "forest ('forest', 'JJS')\n",
      "cover ('cover', 'NN')\n",
      "state ('state', 'NN')\n",
      "increase ('increased', 'VBN')\n",
      "last ('last', 'JJ')\n",
      "year ('years', 'NNS')\n",
      "\"There ('\"There', 'RB')\n",
      "increase ('increase', 'NN')\n",
      "127 ('127', 'CD')\n",
      "sqare ('sqare', 'NN')\n",
      "kilometer ('kilometers', 'NNS')\n",
      "[79 ('[79', 'VBP')\n",
      "sqare ('sqare', 'JJ')\n",
      "miles] in ('miles]\\xa0in', 'PDT')\n",
      "forest ('forest', 'JJS')\n",
      "cover ('cover', 'NN')\n",
      "Uttar ('Uttar', 'NNP')\n",
      "Pradesh ('Pradesh', 'NNP')\n",
      "compare ('compared', 'VBN')\n",
      "2017 ('2017', 'CD')\n",
      "\" ('\"', 'NN')\n",
      "state ('state', 'NN')\n",
      "government ('government', 'NN')\n",
      "spokesperson ('spokesperson', 'NN')\n",
      "quote ('quoted', 'VBN')\n",
      "say ('saying', 'VBG')\n",
      "in The ('in\\xa0The', 'NN')\n",
      "Indian ('Indian', 'NNP')\n",
      "Express ('Express', 'NNP')\n",
      "newspaper ('newspaper', 'NN')\n",
      "\"There ('\"There', 'NN')\n",
      "also ('also', 'RB')\n",
      "increase ('increase', 'NN')\n",
      "tree ('trees', 'NNS')\n",
      "plant ('plants', 'NNS')\n",
      "tree ('tree', 'NN')\n",
      "cover ('cover', 'NN')\n",
      "increase ('increased', 'VBN')\n",
      "3 ('3', 'CD')\n",
      "05% ('05%', 'CD')\n",
      "compare ('compared', 'VBN')\n",
      "national ('national', 'JJ')\n",
      "average ('average', 'NN')\n",
      "2 ('2', 'CD')\n",
      "89% ('89%', 'CD')\n",
      "\" ('\"', 'VBD')\n",
      "official ('official', 'NN')\n",
      "say ('said', 'VBD')\n",
      "cite ('citing', 'VBG')\n",
      "2019 ('2019', 'CD')\n",
      "Forest ('Forest', 'NNP')\n",
      "Survey ('Survey', 'NNP')\n",
      "India ('India', 'NNP')\n",
      "report ('report', 'NNP')\n",
      "many ('many', 'JJ')\n",
      "sapling ('saplings', 'NNS')\n",
      "survive ('survive', 'VBP')\n",
      "Uttar ('Uttar', 'NNP')\n",
      "Pradesh ('Pradesh', 'NNP')\n",
      "State ('State', 'NNP')\n",
      "Forest ('Forest', 'NNP')\n",
      "Minister ('Minister', 'NNP')\n",
      "Dara ('Dara', 'NNP')\n",
      "Singh ('Singh', 'NNP')\n",
      "say ('said', 'VBD')\n",
      "long-term ('long-term', 'JJ')\n",
      "survival ('survival', 'NN')\n",
      "sapling ('saplings', 'NNS')\n",
      "remain ('remains', 'VBZ')\n",
      "concern ('concern', 'NN')\n",
      "add ('adding', 'VBG')\n",
      "usually ('usually', 'RB')\n",
      "60% ('60%', 'CD')\n",
      "sapling ('saplings', 'NNS')\n",
      "survive ('survive', 'VBP')\n",
      "rest ('rest', 'NN')\n",
      "succumb ('succumb', 'NN')\n",
      "disease ('disease', 'VB')\n",
      "lack ('lack', 'VB')\n",
      "water ('water', 'NN')\n",
      "However ('However', 'RB')\n",
      "say ('said', 'VBD')\n",
      "that about ('that\\xa0about', 'IN')\n",
      "80% ('80%', 'CD')\n",
      "sapling ('saplings', 'NNS')\n",
      "plant ('planted', 'VBN')\n",
      "last ('last', 'JJ')\n",
      "four ('four', 'CD')\n",
      "annual ('annual', 'JJ')\n",
      "drive ('drives', 'NNS')\n",
      "survive ('survived', 'VBN')\n",
      "\"All ('\"All', 'PDT')\n",
      "region ('regions', 'NNS')\n",
      "plantation ('plantation', 'NN')\n",
      "carry ('carried', 'VBN')\n",
      "geo-tagged ('geo-tagged', 'VBN')\n",
      "ascertain ('ascertain', 'VB')\n",
      "exactly ('exactly', 'RB')\n",
      "happen ('happened', 'VBD')\n",
      "\" ('\"', 'NNP')\n",
      "Chauhan ('Chauhan', 'NNP')\n",
      "tell ('told', 'VBD')\n",
      "Pioneer ('Pioneer', 'NNP')\n",
      "newspaper ('newspaper', 'NN')\n",
      "\"These ('\"These', 'JJ')\n",
      "sapling ('saplings', 'NNS')\n",
      "carry ('carry', 'VBP')\n",
      "QR ('QR', 'NNP')\n",
      "code ('codes', 'NNS')\n",
      "official ('officials', 'NNS')\n",
      "maintain ('maintain', 'VB')\n",
      "record ('record', 'NN')\n",
      "verify ('verify', 'VB')\n",
      "whether ('whether', 'IN')\n",
      "sapling ('saplings', 'NNS')\n",
      "survive ('survived', 'VBD')\n",
      "Besides ('Besides', 'IN')\n",
      "team ('teams', 'NNS')\n",
      "form ('formed', 'VBN')\n",
      "monitor ('monitor', 'VB')\n",
      "progress ('progress', 'NN')\n",
      "plantation ('plantation', 'NN')\n",
      "drive ('drive', 'NN')\n",
      "\" ('\"', 'NN')\n",
      "say ('said', 'VBD')\n",
      "extent ('extent', 'NN')\n",
      "India's (\"India's\", 'NNP')\n",
      "tree ('tree', 'NN')\n",
      "plant ('planting', 'VBG')\n",
      "project ('project', 'NN')\n",
      "India ('India', 'NNP')\n",
      "vow ('vowed', 'VBN')\n",
      "third ('third', 'JJ')\n",
      "total ('total', 'JJ')\n",
      "land ('land', 'NN')\n",
      "area ('area', 'NN')\n",
      "95 ('95', 'CD')\n",
      "million ('million', 'CD')\n",
      "hectare ('hectares', 'NNS')\n",
      "forest ('forest', 'NN')\n",
      "tree ('tree', 'VB')\n",
      "cover ('cover', 'NN')\n",
      "2030 ('2030', 'CD')\n",
      "government ('government', 'NN')\n",
      "allocate ('allocated', 'VBN')\n",
      "$6 ('$6', '$')\n",
      "2 ('2', 'CD')\n",
      "billion ('billion', 'CD')\n",
      "(€5 ('(€5', 'NNS')\n",
      "2 ('2', 'CD')\n",
      "billion) ('billion)', 'NN')\n",
      "tree-planting ('tree-planting', 'JJ')\n",
      "across ('across', 'IN')\n",
      "country ('country', 'NN')\n",
      "However ('However', 'RB')\n",
      "industrial ('industrial', 'JJ')\n",
      "development ('development', 'NN')\n",
      "rapidly ('rapidly', 'RB')\n",
      "grow ('growing', 'VBG')\n",
      "population ('population', 'NN')\n",
      "put ('put', 'VBN')\n",
      "stress ('stress', 'NN')\n",
      "land ('land', 'NN')\n"
     ]
    }
   ],
   "source": [
    "\n",
    "def get_pos(tag):\n",
    "    if tag.startswith('J'):\n",
    "        return wordnet.ADJ\n",
    "    elif tag.startswith('V'):\n",
    "        return wordnet.VERB\n",
    "    elif tag.startswith('N'):\n",
    "        return wordnet.NOUN\n",
    "    elif tag.startswith('R'):\n",
    "        return wordnet.ADV\n",
    "    else:\n",
    "        return wordnet.NOUN\n",
    "\n",
    "lemmatizer = WordNetLemmatizer()\n",
    "\n",
    "lemmatized = [lemmatizer.lemmatize(w[0], pos = get_pos(w[1])) for w in removed_stop_words]\n",
    "\n",
    "for i in range(0, len(lemmatized)):\n",
    "    print(lemmatized[i], removed_stop_words[i])"
   ]
  },
  {
   "cell_type": "code",
   "execution_count": 32,
   "id": "85883209",
   "metadata": {
    "executionInfo": {
     "elapsed": 6,
     "status": "ok",
     "timestamp": 1740035177591,
     "user": {
      "displayName": "Raj Sharma",
      "userId": "04707301117277889297"
     },
     "user_tz": -330
    },
    "id": "85883209"
   },
   "outputs": [],
   "source": [
    "def getToken(fileName):\n",
    "    data = \"\"\n",
    "    with open(fileName, 'r') as file:\n",
    "        data = file.read()\n",
    "    data.lower()\n",
    "    data = data.split('\\n')\n",
    "    sent_tokens = []\n",
    "    for i in data:\n",
    "        sent_tokens+=re.split(r'[,.?]',i)\n",
    "    tokens = []\n",
    "    for s in sent_tokens:\n",
    "        tokens += s.split(' ')\n",
    "    tokens = [i for i in tokens if i != '']\n",
    "    pos_tags = pos_tag(tokens)\n",
    "    stop_words = set(stopwords.words('english'))\n",
    "    removed_stop_words = []\n",
    "    for w in pos_tags:\n",
    "        if w[0].lower() not in stop_words:\n",
    "            removed_stop_words.append(w)\n",
    "    lemmatizer = WordNetLemmatizer()\n",
    "\n",
    "    lemmatized = [lemmatizer.lemmatize(w[0], pos = get_pos(w[1])) for w in removed_stop_words]\n",
    "    return lemmatized"
   ]
  },
  {
   "cell_type": "code",
   "execution_count": 33,
   "id": "2f5693ca",
   "metadata": {
    "colab": {
     "base_uri": "https://localhost:8080/"
    },
    "executionInfo": {
     "elapsed": 161,
     "status": "ok",
     "timestamp": 1740034993877,
     "user": {
      "displayName": "Raj Sharma",
      "userId": "04707301117277889297"
     },
     "user_tz": -330
    },
    "id": "2f5693ca",
    "outputId": "4488a2c6-906b-4053-b6f1-c1d4b0712054"
   },
   "outputs": [
    {
     "data": {
      "text/plain": [
       "{'Climate': 0.2, 'change': 0.2, 'affect': 0.2, 'global': 0.2, 'ecosystem': 0.2}"
      ]
     },
     "execution_count": 33,
     "metadata": {},
     "output_type": "execute_result"
    }
   ],
   "source": [
    "def termFrequency(docs):\n",
    "    tokens = getToken(docs)\n",
    "    word_counts = Counter(tokens)\n",
    "    total = len(tokens)\n",
    "    tf = {w: count/total for w, count in word_counts.items()}\n",
    "    return tf\n",
    "termFrequency('doc1.txt')"
   ]
  },
  {
   "cell_type": "code",
   "execution_count": 39,
   "id": "51ead8bb",
   "metadata": {
    "colab": {
     "base_uri": "https://localhost:8080/"
    },
    "executionInfo": {
     "elapsed": 93,
     "status": "ok",
     "timestamp": 1740035372693,
     "user": {
      "displayName": "Raj Sharma",
      "userId": "04707301117277889297"
     },
     "user_tz": -330
    },
    "id": "51ead8bb",
    "outputId": "d7eab592-0c1c-4acd-8749-fc950a36faa7"
   },
   "outputs": [
    {
     "data": {
      "text/plain": [
       "{'Climate': 0.9162907318741551,\n",
       " 'change': 0.0,\n",
       " 'affect': 1.6094379124341003,\n",
       " 'global': 0.5108256237659907,\n",
       " 'environment': 0.22314355131420976,\n",
       " 'Global': 1.6094379124341003,\n",
       " 'climate': 0.5108256237659907,\n",
       " 'harm': 1.6094379124341003,\n",
       " 'face': 1.6094379124341003,\n",
       " 'Effects': 1.6094379124341003,\n",
       " 'damage': 1.6094379124341003,\n",
       " 'environmental': 1.6094379124341003,\n",
       " 'effect': 1.6094379124341003}"
      ]
     },
     "execution_count": 39,
     "metadata": {},
     "output_type": "execute_result"
    }
   ],
   "source": [
    "def idfCals(docs):\n",
    "    idf = []\n",
    "    total = len(docs)\n",
    "    word_count = Counter()\n",
    "    for d in docs:\n",
    "        tokens = getToken(d)\n",
    "        for w in tokens:\n",
    "            word_count[w] += 1\n",
    "    idf = {w :math.log(total/freq) for w, freq in word_count.items()}\n",
    "    return idf\n",
    "idfCals([\"doc1.txt\", \"doc2.txt\", \"doc3.txt\", \"doc4.txt\", \"doc5.txt\"])"
   ]
  },
  {
   "cell_type": "code",
   "execution_count": 47,
   "id": "067f9374",
   "metadata": {},
   "outputs": [
    {
     "name": "stdout",
     "output_type": "stream",
     "text": [
      "dict_keys(['Climate', 'change', 'affect', 'global', 'environment', 'Global', 'climate', 'harm', 'face', 'Effects', 'damage', 'environmental', 'effect'])\n"
     ]
    },
    {
     "data": {
      "image/png": "[encoded data removed]",
      "text/plain": [
       "<Figure size 432x288 with 2 Axes>"
      ]
     },
     "metadata": {
      "needs_background": "light"
     },
     "output_type": "display_data"
    }
   ],
   "source": [
    "docs = [\"doc1.txt\", \"doc2.txt\", \"doc3.txt\", \"doc4.txt\", \"doc5.txt\"]\n",
    "tfidf = []\n",
    "idf = idfCals(docs)\n",
    "print(idf.keys())\n",
    "for i in docs:\n",
    "    tf = termFrequency(i)\n",
    "    l = [idf[key]*tf.get(key, 0) for key in idf]\n",
    "    tfidf.append(l)\n",
    "arr = np.array(tfidf)\n",
    "sns.heatmap(arr)\n",
    "plt.show()"
   ]
  },
  {
   "cell_type": "code",
   "execution_count": 36,
   "id": "CXfHbsQhMBDw",
   "metadata": {
    "colab": {
     "base_uri": "https://localhost:8080/",
     "height": 430
    },
    "executionInfo": {
     "elapsed": 257,
     "status": "ok",
     "timestamp": 1740035561439,
     "user": {
      "displayName": "Raj Sharma",
      "userId": "04707301117277889297"
     },
     "user_tz": -330
    },
    "id": "CXfHbsQhMBDw",
    "outputId": "46bc0087-9c9d-4868-e87d-4fa2d37fdd19"
   },
   "outputs": [
    {
     "data": {
      "image/png": "[encoded data removed]",
      "text/plain": [
       "<Figure size 432x288 with 1 Axes>"
      ]
     },
     "metadata": {
      "needs_background": "light"
     },
     "output_type": "display_data"
    }
   ],
   "source": [
    "def plotWordCountGraph(docs):\n",
    "  total = []\n",
    "  total_unique = []\n",
    "  for d in docs:\n",
    "    tokens = getToken(d)\n",
    "    word_counts = Counter(tokens)\n",
    "    total.append(len(tokens))\n",
    "    total_unique.append(len(word_counts))\n",
    "  plt.plot(total, total_unique)\n",
    "  plt.xlabel(\"total number of words\")\n",
    "  plt.ylabel(\"total number of unique words\")\n",
    "    \n",
    "  plt.show()\n",
    "\n",
    "plotWordCountGraph([\"doc1.txt\", \"doc2.txt\", \"doc3.txt\", \"doc4.txt\", \"doc5.txt\"])"
   ]
  },
  {
   "cell_type": "code",
   "execution_count": 37,
   "id": "E3ZnEwLfM38V",
   "metadata": {
    "colab": {
     "base_uri": "https://localhost:8080/",
     "height": 285
    },
    "executionInfo": {
     "elapsed": 3325,
     "status": "ok",
     "timestamp": 1740035722646,
     "user": {
      "displayName": "Raj Sharma",
      "userId": "04707301117277889297"
     },
     "user_tz": -330
    },
    "id": "E3ZnEwLfM38V",
    "outputId": "dc88cf88-db2f-4faf-bfcd-7954307cd3d1"
   },
   "outputs": [
    {
     "ename": "ValueError",
     "evalue": "Only supported for TrueType fonts",
     "output_type": "error",
     "traceback": [
      "\u001b[0;31m---------------------------------------------------------------------------\u001b[0m",
      "\u001b[0;31mValueError\u001b[0m                                Traceback (most recent call last)",
      "\u001b[0;32m<ipython-input-37-2b62ea24cc2c>\u001b[0m in \u001b[0;36m<module>\u001b[0;34m\u001b[0m\n\u001b[1;32m      7\u001b[0m       \u001b[0mplt\u001b[0m\u001b[0;34m.\u001b[0m\u001b[0mshow\u001b[0m\u001b[0;34m(\u001b[0m\u001b[0;34m)\u001b[0m\u001b[0;34m\u001b[0m\u001b[0;34m\u001b[0m\u001b[0m\n\u001b[1;32m      8\u001b[0m \u001b[0;34m\u001b[0m\u001b[0m\n\u001b[0;32m----> 9\u001b[0;31m \u001b[0mcloudPlot\u001b[0m\u001b[0;34m(\u001b[0m\u001b[0;34m'doc2.txt'\u001b[0m\u001b[0;34m)\u001b[0m\u001b[0;34m\u001b[0m\u001b[0;34m\u001b[0m\u001b[0m\n\u001b[0m",
      "\u001b[0;32m<ipython-input-37-2b62ea24cc2c>\u001b[0m in \u001b[0;36mcloudPlot\u001b[0;34m(doc)\u001b[0m\n\u001b[1;32m      2\u001b[0m       \u001b[0;32mwith\u001b[0m \u001b[0mopen\u001b[0m\u001b[0;34m(\u001b[0m\u001b[0mdoc\u001b[0m\u001b[0;34m)\u001b[0m \u001b[0;32mas\u001b[0m \u001b[0mfile\u001b[0m\u001b[0;34m:\u001b[0m\u001b[0;34m\u001b[0m\u001b[0;34m\u001b[0m\u001b[0m\n\u001b[1;32m      3\u001b[0m         \u001b[0mtext\u001b[0m \u001b[0;34m=\u001b[0m \u001b[0mfile\u001b[0m\u001b[0;34m.\u001b[0m\u001b[0mread\u001b[0m\u001b[0;34m(\u001b[0m\u001b[0;34m)\u001b[0m\u001b[0;34m\u001b[0m\u001b[0;34m\u001b[0m\u001b[0m\n\u001b[0;32m----> 4\u001b[0;31m       \u001b[0mwordcloud\u001b[0m \u001b[0;34m=\u001b[0m \u001b[0mWordCloud\u001b[0m\u001b[0;34m(\u001b[0m\u001b[0;34m)\u001b[0m\u001b[0;34m.\u001b[0m\u001b[0mgenerate\u001b[0m\u001b[0;34m(\u001b[0m\u001b[0mtext\u001b[0m\u001b[0;34m)\u001b[0m\u001b[0;34m\u001b[0m\u001b[0;34m\u001b[0m\u001b[0m\n\u001b[0m\u001b[1;32m      5\u001b[0m       \u001b[0mplt\u001b[0m\u001b[0;34m.\u001b[0m\u001b[0mimshow\u001b[0m\u001b[0;34m(\u001b[0m\u001b[0mwordcloud\u001b[0m\u001b[0;34m,\u001b[0m \u001b[0minterpolation\u001b[0m\u001b[0;34m=\u001b[0m\u001b[0;34m'bilinear'\u001b[0m\u001b[0;34m)\u001b[0m\u001b[0;34m\u001b[0m\u001b[0;34m\u001b[0m\u001b[0m\n\u001b[1;32m      6\u001b[0m       \u001b[0mplt\u001b[0m\u001b[0;34m.\u001b[0m\u001b[0maxis\u001b[0m\u001b[0;34m(\u001b[0m\u001b[0;34m'off'\u001b[0m\u001b[0;34m)\u001b[0m\u001b[0;34m\u001b[0m\u001b[0;34m\u001b[0m\u001b[0m\n",
      "\u001b[0;32m~/.local/lib/python3.6/site-packages/wordcloud/wordcloud.py\u001b[0m in \u001b[0;36mgenerate\u001b[0;34m(self, text)\u001b[0m\n\u001b[1;32m    637\u001b[0m         \u001b[0mself\u001b[0m\u001b[0;34m\u001b[0m\u001b[0;34m\u001b[0m\u001b[0m\n\u001b[1;32m    638\u001b[0m         \"\"\"\n\u001b[0;32m--> 639\u001b[0;31m         \u001b[0;32mreturn\u001b[0m \u001b[0mself\u001b[0m\u001b[0;34m.\u001b[0m\u001b[0mgenerate_from_text\u001b[0m\u001b[0;34m(\u001b[0m\u001b[0mtext\u001b[0m\u001b[0;34m)\u001b[0m\u001b[0;34m\u001b[0m\u001b[0;34m\u001b[0m\u001b[0m\n\u001b[0m\u001b[1;32m    640\u001b[0m \u001b[0;34m\u001b[0m\u001b[0m\n\u001b[1;32m    641\u001b[0m     \u001b[0;32mdef\u001b[0m \u001b[0m_check_generated\u001b[0m\u001b[0;34m(\u001b[0m\u001b[0mself\u001b[0m\u001b[0;34m)\u001b[0m\u001b[0;34m:\u001b[0m\u001b[0;34m\u001b[0m\u001b[0;34m\u001b[0m\u001b[0m\n",
      "\u001b[0;32m~/.local/lib/python3.6/site-packages/wordcloud/wordcloud.py\u001b[0m in \u001b[0;36mgenerate_from_text\u001b[0;34m(self, text)\u001b[0m\n\u001b[1;32m    619\u001b[0m         \"\"\"\n\u001b[1;32m    620\u001b[0m         \u001b[0mwords\u001b[0m \u001b[0;34m=\u001b[0m \u001b[0mself\u001b[0m\u001b[0;34m.\u001b[0m\u001b[0mprocess_text\u001b[0m\u001b[0;34m(\u001b[0m\u001b[0mtext\u001b[0m\u001b[0;34m)\u001b[0m\u001b[0;34m\u001b[0m\u001b[0;34m\u001b[0m\u001b[0m\n\u001b[0;32m--> 621\u001b[0;31m         \u001b[0mself\u001b[0m\u001b[0;34m.\u001b[0m\u001b[0mgenerate_from_frequencies\u001b[0m\u001b[0;34m(\u001b[0m\u001b[0mwords\u001b[0m\u001b[0;34m)\u001b[0m\u001b[0;34m\u001b[0m\u001b[0;34m\u001b[0m\u001b[0m\n\u001b[0m\u001b[1;32m    622\u001b[0m         \u001b[0;32mreturn\u001b[0m \u001b[0mself\u001b[0m\u001b[0;34m\u001b[0m\u001b[0;34m\u001b[0m\u001b[0m\n\u001b[1;32m    623\u001b[0m \u001b[0;34m\u001b[0m\u001b[0m\n",
      "\u001b[0;32m~/.local/lib/python3.6/site-packages/wordcloud/wordcloud.py\u001b[0m in \u001b[0;36mgenerate_from_frequencies\u001b[0;34m(self, frequencies, max_font_size)\u001b[0m\n\u001b[1;32m    452\u001b[0m             \u001b[0;32melse\u001b[0m\u001b[0;34m:\u001b[0m\u001b[0;34m\u001b[0m\u001b[0;34m\u001b[0m\u001b[0m\n\u001b[1;32m    453\u001b[0m                 self.generate_from_frequencies(dict(frequencies[:2]),\n\u001b[0;32m--> 454\u001b[0;31m                                                max_font_size=self.height)\n\u001b[0m\u001b[1;32m    455\u001b[0m                 \u001b[0;31m# find font sizes\u001b[0m\u001b[0;34m\u001b[0m\u001b[0;34m\u001b[0m\u001b[0;34m\u001b[0m\u001b[0m\n\u001b[1;32m    456\u001b[0m                 \u001b[0msizes\u001b[0m \u001b[0;34m=\u001b[0m \u001b[0;34m[\u001b[0m\u001b[0mx\u001b[0m\u001b[0;34m[\u001b[0m\u001b[0;36m1\u001b[0m\u001b[0;34m]\u001b[0m \u001b[0;32mfor\u001b[0m \u001b[0mx\u001b[0m \u001b[0;32min\u001b[0m \u001b[0mself\u001b[0m\u001b[0;34m.\u001b[0m\u001b[0mlayout_\u001b[0m\u001b[0;34m]\u001b[0m\u001b[0;34m\u001b[0m\u001b[0;34m\u001b[0m\u001b[0m\n",
      "\u001b[0;32m~/.local/lib/python3.6/site-packages/wordcloud/wordcloud.py\u001b[0m in \u001b[0;36mgenerate_from_frequencies\u001b[0;34m(self, frequencies, max_font_size)\u001b[0m\n\u001b[1;32m    506\u001b[0m                     font, orientation=orientation)\n\u001b[1;32m    507\u001b[0m                 \u001b[0;31m# get size of resulting text\u001b[0m\u001b[0;34m\u001b[0m\u001b[0;34m\u001b[0m\u001b[0;34m\u001b[0m\u001b[0m\n\u001b[0;32m--> 508\u001b[0;31m                 \u001b[0mbox_size\u001b[0m \u001b[0;34m=\u001b[0m \u001b[0mdraw\u001b[0m\u001b[0;34m.\u001b[0m\u001b[0mtextbbox\u001b[0m\u001b[0;34m(\u001b[0m\u001b[0;34m(\u001b[0m\u001b[0;36m0\u001b[0m\u001b[0;34m,\u001b[0m \u001b[0;36m0\u001b[0m\u001b[0;34m)\u001b[0m\u001b[0;34m,\u001b[0m \u001b[0mword\u001b[0m\u001b[0;34m,\u001b[0m \u001b[0mfont\u001b[0m\u001b[0;34m=\u001b[0m\u001b[0mtransposed_font\u001b[0m\u001b[0;34m,\u001b[0m \u001b[0manchor\u001b[0m\u001b[0;34m=\u001b[0m\u001b[0;34m\"lt\"\u001b[0m\u001b[0;34m)\u001b[0m\u001b[0;34m\u001b[0m\u001b[0;34m\u001b[0m\u001b[0m\n\u001b[0m\u001b[1;32m    509\u001b[0m                 \u001b[0;31m# find possible places using integral image:\u001b[0m\u001b[0;34m\u001b[0m\u001b[0;34m\u001b[0m\u001b[0;34m\u001b[0m\u001b[0m\n\u001b[1;32m    510\u001b[0m                 result = occupancy.sample_position(box_size[3] + self.margin,\n",
      "\u001b[0;32m~/.local/lib/python3.6/site-packages/PIL/ImageDraw.py\u001b[0m in \u001b[0;36mtextbbox\u001b[0;34m(self, xy, text, font, anchor, spacing, align, direction, features, language, stroke_width, embedded_color)\u001b[0m\n\u001b[1;32m    649\u001b[0m             \u001b[0mfont\u001b[0m \u001b[0;34m=\u001b[0m \u001b[0mself\u001b[0m\u001b[0;34m.\u001b[0m\u001b[0mgetfont\u001b[0m\u001b[0;34m(\u001b[0m\u001b[0;34m)\u001b[0m\u001b[0;34m\u001b[0m\u001b[0;34m\u001b[0m\u001b[0m\n\u001b[1;32m    650\u001b[0m         \u001b[0;32mif\u001b[0m \u001b[0;32mnot\u001b[0m \u001b[0misinstance\u001b[0m\u001b[0;34m(\u001b[0m\u001b[0mfont\u001b[0m\u001b[0;34m,\u001b[0m \u001b[0mImageFont\u001b[0m\u001b[0;34m.\u001b[0m\u001b[0mFreeTypeFont\u001b[0m\u001b[0;34m)\u001b[0m\u001b[0;34m:\u001b[0m\u001b[0;34m\u001b[0m\u001b[0;34m\u001b[0m\u001b[0m\n\u001b[0;32m--> 651\u001b[0;31m             \u001b[0;32mraise\u001b[0m \u001b[0mValueError\u001b[0m\u001b[0;34m(\u001b[0m\u001b[0;34m\"Only supported for TrueType fonts\"\u001b[0m\u001b[0;34m)\u001b[0m\u001b[0;34m\u001b[0m\u001b[0;34m\u001b[0m\u001b[0m\n\u001b[0m\u001b[1;32m    652\u001b[0m         \u001b[0mmode\u001b[0m \u001b[0;34m=\u001b[0m \u001b[0;34m\"RGBA\"\u001b[0m \u001b[0;32mif\u001b[0m \u001b[0membedded_color\u001b[0m \u001b[0;32melse\u001b[0m \u001b[0mself\u001b[0m\u001b[0;34m.\u001b[0m\u001b[0mfontmode\u001b[0m\u001b[0;34m\u001b[0m\u001b[0;34m\u001b[0m\u001b[0m\n\u001b[1;32m    653\u001b[0m         bbox = font.getbbox(\n",
      "\u001b[0;31mValueError\u001b[0m: Only supported for TrueType fonts"
     ]
    }
   ],
   "source": [
    "def cloudPlot(doc):\n",
    "      with open(doc) as file:\n",
    "        text = file.read()\n",
    "      wordcloud = WordCloud().generate(text)\n",
    "      plt.imshow(wordcloud, interpolation='bilinear')\n",
    "      plt.axis('off')\n",
    "      plt.show()\n",
    "\n",
    "cloudPlot('doc2.txt')"
   ]
  },
  {
   "cell_type": "code",
   "execution_count": null,
   "id": "1R-NLyJhNcn-",
   "metadata": {
    "id": "1R-NLyJhNcn-"
   },
   "outputs": [],
   "source": []
  },
  {
   "cell_type": "code",
   "execution_count": null,
   "id": "1199a0fd",
   "metadata": {},
   "outputs": [],
   "source": []
  }
 ],
 "metadata": {
  "colab": {
   "provenance": []
  },
  "kernelspec": {
   "display_name": "Python 3",
   "language": "python",
   "name": "python3"
  },
  "language_info": {
   "codemirror_mode": {
    "name": "ipython",
    "version": 3
   },
   "file_extension": ".py",
   "mimetype": "text/x-python",
   "name": "python",
   "nbconvert_exporter": "python",
   "pygments_lexer": "ipython3",
   "version": "3.6.9"
  }
 },
 "nbformat": 4,
 "nbformat_minor": 5
}
